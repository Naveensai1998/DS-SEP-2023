{
 "cells": [
  {
   "cell_type": "code",
   "execution_count": null,
   "id": "f8b9a482",
   "metadata": {},
   "outputs": [],
   "source": [
    "#Import libraries\n",
    "import pandas as pd \n",
    "import numpy as np\n",
    "import locale\n",
    "from openpyxl import Workbook\n",
    "from openpyxl.styles import PatternFill"
   ]
  },
  {
   "cell_type": "code",
   "execution_count": null,
   "id": "cbe154e2",
   "metadata": {},
   "outputs": [],
   "source": [
    "#reading the files\n",
    "edw_extract_df = pd.read_excel('ED- Summary Format.xlsx')\n",
    "label_id_df = pd.read_excel(r\"C:\\Users\\5741923\\OneDrive - MyFedEx\\Desktop\\US_Domestic\\BDS ID Services Tagging.xlsx\")"
   ]
  },
  {
   "cell_type": "code",
   "execution_count": null,
   "id": "6330591e",
   "metadata": {},
   "outputs": [],
   "source": [
    "#left join \n",
    "edw_extract_df_1 = pd.merge(edw_extract_df,label_id_df, left_on = 'bds_id_nbr', right_on = 'BDS ID NUMBER', how = 'right')"
   ]
  },
  {
   "cell_type": "code",
   "execution_count": null,
   "id": "8df69d4d",
   "metadata": {},
   "outputs": [],
   "source": [
    "edw_extract_df_1.head(3)"
   ]
  },
  {
   "cell_type": "code",
   "execution_count": null,
   "id": "32d44cb7",
   "metadata": {},
   "outputs": [],
   "source": [
    "edw_extract_df_1['Opco'].unique()"
   ]
  },
  {
   "cell_type": "code",
   "execution_count": null,
   "id": "bd1d03ff",
   "metadata": {},
   "outputs": [],
   "source": [
    "#reading the same excel file 'BDS ID Services Tagging.xlsx' for another sheet\n",
    "sheet_name = 'Ground' \n",
    "label_id_df1 = pd.read_excel(r\"C:\\Users\\5741923\\OneDrive - MyFedEx\\Desktop\\US_Domestic\\BDS ID Services Tagging.xlsx\",sheet_name = sheet_name)"
   ]
  },
  {
   "cell_type": "code",
   "execution_count": null,
   "id": "77c81a34",
   "metadata": {},
   "outputs": [],
   "source": [
    "#left join\n",
    "edw_extract_df_2 = pd.merge(edw_extract_df,label_id_df1, left_on = 'bds_id_nbr', right_on = 'BDS ID NUMBER', how = 'right')"
   ]
  },
  {
   "cell_type": "code",
   "execution_count": null,
   "id": "9a30c58d",
   "metadata": {},
   "outputs": [],
   "source": [
    "edw_extract_df_2.head(3)"
   ]
  },
  {
   "cell_type": "code",
   "execution_count": null,
   "id": "a553f94c",
   "metadata": {},
   "outputs": [],
   "source": [
    "edw_extract_df_2['Opco'].unique()"
   ]
  },
  {
   "cell_type": "code",
   "execution_count": null,
   "id": "3652faef",
   "metadata": {},
   "outputs": [],
   "source": [
    "#Subsetting \n",
    "fxe_df = edw_extract_df_1[edw_extract_df_1['Opco'] == 'FXE ']\n",
    "\n"
   ]
  },
  {
   "cell_type": "code",
   "execution_count": null,
   "id": "be0cfc65",
   "metadata": {},
   "outputs": [],
   "source": [
    "fxg_df = edw_extract_df_2[edw_extract_df_2['Opco'] == 'FXG ']\n"
   ]
  },
  {
   "cell_type": "code",
   "execution_count": null,
   "id": "1cbd361f",
   "metadata": {},
   "outputs": [],
   "source": [
    "fxg_df['Name in Agreement'].unique()"
   ]
  },
  {
   "cell_type": "code",
   "execution_count": null,
   "id": "07a1cade",
   "metadata": {},
   "outputs": [],
   "source": [
    "fxg_df['Category'].unique()"
   ]
  },
  {
   "cell_type": "code",
   "execution_count": null,
   "id": "afe4e4a6",
   "metadata": {},
   "outputs": [],
   "source": [
    "# Set the locale to use the Indian numbering system\n",
    "locale.setlocale(locale.LC_ALL, 'en_IN')\n",
    "\n",
    "# Create the 'Range' column in fxe_df\n",
    "fxe_df['Range'] = fxe_df['earn_disc_tier_min_amt'].apply(lambda x: locale.format(\"%0.2f\", x, grouping=True)) + \"-\" + fxe_df['earn_disc_tier_max_amt'].apply(lambda x: locale.format(\"%0.2f\", x, grouping=True))\n",
    "\n",
    "# Create the 'Range1' column in fxg_df\n",
    "fxg_df['Range1'] = fxg_df['earn_disc_tier_min_amt'].apply(lambda x: locale.format(\"%0.2f\", x, grouping=True)) + \"-\" + fxg_df['earn_disc_tier_max_amt'].apply(lambda x: locale.format(\"%0.2f\", x, grouping=True))\n"
   ]
  },
  {
   "cell_type": "code",
   "execution_count": null,
   "id": "828339a6",
   "metadata": {},
   "outputs": [],
   "source": [
    "#apllying pivot for fxe_df\n",
    "df_pivot = pd.pivot_table(fxe_df, values = \"Discount_Percentage\", columns = ['Range'], index = ['Name in Agreement','Category'], aggfunc = 'mean')"
   ]
  },
  {
   "cell_type": "code",
   "execution_count": null,
   "id": "70cc6228",
   "metadata": {},
   "outputs": [],
   "source": [
    "df_pivot.head(3)"
   ]
  },
  {
   "cell_type": "code",
   "execution_count": null,
   "id": "d1794913",
   "metadata": {},
   "outputs": [],
   "source": [
    "df_pivot.index.name = 'Name in Agreement_FXE'"
   ]
  },
  {
   "cell_type": "code",
   "execution_count": null,
   "id": "7123b9ae",
   "metadata": {},
   "outputs": [],
   "source": [
    "fxg_df.head(3)"
   ]
  },
  {
   "cell_type": "code",
   "execution_count": null,
   "id": "f9097300",
   "metadata": {},
   "outputs": [],
   "source": [
    "#apllying pivot for fxg_df\n",
    "df1_pivot = pd.pivot_table(fxg_df, values = \"Discount_Percentage\", columns = ['Range1'], index = ['Name in Agreement','Category'], aggfunc = 'mean')"
   ]
  },
  {
   "cell_type": "code",
   "execution_count": null,
   "id": "672b2e5e",
   "metadata": {},
   "outputs": [],
   "source": [
    "#renaming the index column\n",
    "df1_pivot.index.name = 'Name in Agreement_FXG'"
   ]
  },
  {
   "cell_type": "code",
   "execution_count": null,
   "id": "b02417fe",
   "metadata": {
    "scrolled": true
   },
   "outputs": [],
   "source": [
    "df_pivot"
   ]
  },
  {
   "cell_type": "code",
   "execution_count": null,
   "id": "f97ae0b6",
   "metadata": {},
   "outputs": [],
   "source": [
    "df1_pivot"
   ]
  },
  {
   "cell_type": "code",
   "execution_count": null,
   "id": "ff7ace51",
   "metadata": {},
   "outputs": [],
   "source": [
    "# Create an ExcelWriter object to write to an Excel file\n",
    "with pd.ExcelWriter('ED.xlsx', engine='xlsxwriter') as writer:\n",
    "    # Write the first DataFrame to the first sheet\n",
    "    df_pivot.to_excel(writer, sheet_name='FXE')\n",
    "\n",
    "    # Write the second DataFrame to the second sheet\n",
    "    df1_pivot.to_excel(writer, sheet_name='FXG')\n",
    "\n",
    "# Save the Excel file\n",
    "writer.save()\n"
   ]
  },
  {
   "cell_type": "markdown",
   "id": "6dfb147f",
   "metadata": {},
   "source": [
    "COMPLETE CODE IN ONE CELL"
   ]
  },
  {
   "cell_type": "code",
   "execution_count": null,
   "id": "994b9ba4",
   "metadata": {},
   "outputs": [],
   "source": [
    "import pandas as pd \n",
    "import numpy as np\n",
    "import locale\n",
    "from openpyxl import Workbook\n",
    "from openpyxl.styles import PatternFill\n",
    "edw_extract_df = pd.read_excel('ED- Summary Format.xlsx')\n",
    "label_id_df = pd.read_excel(r\"C:\\Users\\5741923\\OneDrive - MyFedEx\\Desktop\\US_Domestic\\BDS ID Services Tagging.xlsx\")\n",
    "edw_extract_df_1 = pd.merge(edw_extract_df,label_id_df, left_on = 'bds_id_nbr', right_on = 'BDS ID NUMBER', how = 'right')\n",
    "fxe_df = edw_extract_df_1[edw_extract_df_1['Opco'] == 'FXE ']\n",
    "locale.setlocale(locale.LC_ALL, 'en_IN')\n",
    "\n",
    "# Create the 'Range' column in fxe_df\n",
    "fxe_df['Range'] = fxe_df['earn_disc_tier_min_amt'].apply(lambda x: locale.format(\"%0.2f\", x, grouping=True)) + \"-\" + fxe_df['earn_disc_tier_max_amt'].apply(lambda x: locale.format(\"%0.2f\", x, grouping=True))\n",
    "\n",
    "# Create the 'Range1' column in fxg_df\n",
    "fxg_df['Range1'] = fxg_df['earn_disc_tier_min_amt'].apply(lambda x: locale.format(\"%0.2f\", x, grouping=True)) + \"-\" + fxg_df['earn_disc_tier_max_amt'].apply(lambda x: locale.format(\"%0.2f\", x, grouping=True))\n",
    "df_pivot = pd.pivot_table(fxe_df, values = \"Discount_Percentage\", columns = ['Range'], index = ['Name in Agreement','Category'], aggfunc = 'mean')\n",
    "df_pivot.index.name = 'Name in Agreement_FXE'\n",
    "df1_pivot = pd.pivot_table(fxg_df, values = \"Discount_Percentage\", columns = ['Range1'], index = ['Name in Agreement','Category'], aggfunc = 'mean')\n",
    "df1_pivot.index.name = 'Name in Agreement_FXG'\n",
    "with pd.ExcelWriter('ED.xlsx', engine='xlsxwriter') as writer:\n",
    "    # Write the first DataFrame to the first sheet\n",
    "    df_pivot.to_excel(writer, sheet_name='FXE')\n",
    "\n",
    "    # Write the second DataFrame to the second sheet\n",
    "    df1_pivot.to_excel(writer, sheet_name='FXG')\n",
    "\n",
    "# Save the Excel file\n",
    "writer.save()\n",
    "\n"
   ]
  }
 ],
 "metadata": {
  "kernelspec": {
   "display_name": "Python 3 (ipykernel)",
   "language": "python",
   "name": "python3"
  },
  "language_info": {
   "codemirror_mode": {
    "name": "ipython",
    "version": 3
   },
   "file_extension": ".py",
   "mimetype": "text/x-python",
   "name": "python",
   "nbconvert_exporter": "python",
   "pygments_lexer": "ipython3",
   "version": "3.11.6"
  }
 },
 "nbformat": 4,
 "nbformat_minor": 5
}
